{
 "cells": [
  {
   "cell_type": "code",
   "execution_count": 12,
   "id": "061ce25a-b104-4795-9834-645b08cf2290",
   "metadata": {},
   "outputs": [],
   "source": [
    "import requests\n",
    "import numpy as np\n",
    "import pandas as pd\n",
    "\n",
    "from binance import Client, ThreadedWebsocketManager, ThreadedDepthCacheManager\n",
    "from futures_sign import send_signed_request, send_public_request\n",
    "from key import KEY, SECRET"
   ]
  },
  {
   "cell_type": "code",
   "execution_count": 13,
   "id": "931a5bff-7562-4514-a9fc-2519db880e7c",
   "metadata": {},
   "outputs": [],
   "source": [
    "symbol='ETHUSDT'\n",
    "client = Client(KEY,SECRET)"
   ]
  },
  {
   "cell_type": "code",
   "execution_count": 14,
   "id": "0e83cab5-27c1-4d68-8457-b28bf7f38b00",
   "metadata": {},
   "outputs": [],
   "source": [
    "# Get last 500 kandels 5 minutes for Symbol\n",
    "\n",
    "def get_futures_klines(symbol,limit=500):\n",
    "    x = requests.get('https://www.binance.com/fapi/v1/klines?symbol='+symbol+'&limit='+str(limit)+'&interval=5m')\n",
    "    df=pd.DataFrame(x.json())\n",
    "    df.columns=['open_time','open','high','low','close','volume','close_time','d1','d2','d3','d4','d5']\n",
    "    df=df.drop(['d1','d2','d3','d4','d5'],axis=1)\n",
    "    df['open']=df['open'].astype(float)\n",
    "    df['high']=df['high'].astype(float)\n",
    "    df['low']=df['low'].astype(float)\n",
    "    df['close']=df['close'].astype(float)\n",
    "    df['volume']=df['volume'].astype(float)\n",
    "    return(df)"
   ]
  },
  {
   "cell_type": "code",
   "execution_count": 15,
   "id": "80f766de-509d-4ed1-a99c-e23cf6acd736",
   "metadata": {},
   "outputs": [],
   "source": [
    "# Open position for Sybol with \n",
    "\n",
    "def open_position(symbol,s_l,quantity_l):\n",
    "    sprice=get_symbol_price(symbol)\n",
    "\n",
    "    if(s_l=='long'):\n",
    "        close_price=str(round(sprice*(1+0.01),2))\n",
    "        params = {\n",
    "            \"batchOrders\": [\n",
    "                {\n",
    "                    \"symbol\":symbol,\n",
    "                    \"side\": \"BUY\",\n",
    "                    \"type\": \"LIMIT\",\n",
    "                    \"quantity\": str(quantity_l),\n",
    "                    \"timeInForce\":\"GTC\",\n",
    "                    \"price\": close_price        \n",
    "\n",
    "                }\n",
    "            ]\n",
    "        }\n",
    "        responce = send_signed_request('POST', '/fapi/v1/batchOrders', params)\n",
    "       \n",
    "    if(s_l=='short'):\n",
    "        close_price=str(round(sprice*(1-0.01),2))\n",
    "        params = {\n",
    "            \"batchOrders\": [\n",
    "                {\n",
    "                    \"symbol\":symbol,\n",
    "                    \"side\": \"SELL\",\n",
    "                    \"type\": \"LIMIT\",\n",
    "                    \"quantity\": str(quantity_l),\n",
    "                    \"timeInForce\":\"GTC\",\n",
    "                    \"price\": close_price\n",
    "                }\n",
    "           ]\n",
    "        }\n",
    "        responce = send_signed_request('POST', '/fapi/v1/batchOrders', params)"
   ]
  },
  {
   "cell_type": "code",
   "execution_count": 16,
   "id": "ea4d58b7-ccb6-4252-8602-d9b5521122dc",
   "metadata": {},
   "outputs": [],
   "source": [
    "# Close position for symbol with quantity\n",
    "\n",
    "def close_position(symbol,s_l,quantity_l):\n",
    "    sprice=get_symbol_price(symbol)\n",
    "\n",
    "    if(s_l=='long'):\n",
    "        close_price=str(round(sprice*(1-0.01),2))\n",
    "        params = {\n",
    "                    \"symbol\":symbol,\n",
    "                    \"side\": \"SELL\",\n",
    "                    \"type\": \"LIMIT\",\n",
    "                    \"quantity\": str(quantity_l),\n",
    "                    \"timeInForce\":\"GTC\",\n",
    "                    \"price\": close_price\n",
    "                }\n",
    "        responce = send_signed_request('POST', '/fapi/v1/order', params)\n",
    "    if(s_l=='short'):\n",
    "        close_price=str(round(sprice*(1+0.01),2))\n",
    "        params = {\n",
    "                \n",
    "                    \"symbol\":symbol,\n",
    "                    \"side\": \"BUY\",\n",
    "                    \"type\": \"LIMIT\",\n",
    "                    \"quantity\": str(quantity_l),\n",
    "                    \"timeInForce\":\"GTC\",\n",
    "                    \"price\": close_price        \n",
    "                }\n",
    "        responce = send_signed_request('POST', '/fapi/v1/order', params)"
   ]
  },
  {
   "cell_type": "code",
   "execution_count": 17,
   "id": "f79fe4c1-7235-4e86-838c-1f06bd088844",
   "metadata": {},
   "outputs": [],
   "source": [
    "# Find all opened positions\n",
    "\n",
    "def get_opened_positions(symbol):\n",
    "    status = client.futures_account()\n",
    "    positions=pd.DataFrame(status['positions'])\n",
    "    a = positions[positions['symbol']==symbol]['positionAmt'].astype(float).tolist()[0]\n",
    "    leverage = int(positions[positions['symbol']==symbol]['leverage'])\n",
    "    entryprice = positions[positions['symbol']==symbol]['entryPrice']\n",
    "    profit = float(status['totalUnrealizedProfit'])\n",
    "    balance = round(float(status['totalWalletBalance']),2)\n",
    "    if a>0:\n",
    "        pos = \"long\"\n",
    "    elif a<0:\n",
    "        pos = \"short\"\n",
    "    else: \n",
    "        pos = \"\"\n",
    "    return([pos,a,profit,leverage,balance,round(float(entryprice),3),0])"
   ]
  },
  {
   "cell_type": "code",
   "execution_count": 18,
   "id": "35f99296-0214-4cca-b4ef-9e91819468a4",
   "metadata": {},
   "outputs": [],
   "source": [
    "# Close all orders \n",
    "\n",
    "def check_and_close_orders(symbol):\n",
    "    global isStop \n",
    "    a=client.futures_get_open_orders(symbol=symbol)\n",
    "    if len(a)>0:\n",
    "        isStop = False\n",
    "        client.futures_cancel_all_open_orders(symbol=symbol)"
   ]
  },
  {
   "cell_type": "code",
   "execution_count": 19,
   "id": "f434bfe6-938c-4545-9b14-c52b8db862fb",
   "metadata": {},
   "outputs": [],
   "source": [
    "def get_symbol_price(symbol):\n",
    "    prices = client.get_all_tickers()\n",
    "    df=pd.DataFrame(prices)\n",
    "    return float(df[ df['symbol']==symbol]['price'])"
   ]
  },
  {
   "cell_type": "code",
   "execution_count": 20,
   "id": "d6d3a1fa-2117-4857-aed3-affcc3719e10",
   "metadata": {},
   "outputs": [],
   "source": [
    "open_position(symbol,'long',0.01)"
   ]
  },
  {
   "cell_type": "code",
   "execution_count": 25,
   "id": "103547d1-914b-4b57-9712-cc5e21dc5dcc",
   "metadata": {},
   "outputs": [
    {
     "data": {
      "text/plain": [
       "['', 0.0, 0.0, 5, 13.76, 0.0, 0]"
      ]
     },
     "execution_count": 25,
     "metadata": {},
     "output_type": "execute_result"
    }
   ],
   "source": [
    "get_opened_positions(symbol)"
   ]
  },
  {
   "cell_type": "code",
   "execution_count": 22,
   "id": "fa9918b2-27fb-4488-a690-5750b09f522c",
   "metadata": {},
   "outputs": [],
   "source": [
    "close_position(symbol,'long',0.02)"
   ]
  },
  {
   "cell_type": "code",
   "execution_count": 23,
   "id": "3d1c56a7-c2fa-40b8-bf9b-64c82776cd58",
   "metadata": {},
   "outputs": [
    {
     "data": {
      "text/plain": [
       "['', 0.0, 0.11951199, 5, 11.83, 0.0, 0]"
      ]
     },
     "execution_count": 23,
     "metadata": {},
     "output_type": "execute_result"
    }
   ],
   "source": [
    "get_opened_positions(symbol)"
   ]
  },
  {
   "cell_type": "code",
   "execution_count": 24,
   "id": "5a1971f6-91d2-4f7f-a232-f0a7c31cb069",
   "metadata": {},
   "outputs": [
    {
     "data": {
      "text/html": [
       "<div>\n",
       "<style scoped>\n",
       "    .dataframe tbody tr th:only-of-type {\n",
       "        vertical-align: middle;\n",
       "    }\n",
       "\n",
       "    .dataframe tbody tr th {\n",
       "        vertical-align: top;\n",
       "    }\n",
       "\n",
       "    .dataframe thead th {\n",
       "        text-align: right;\n",
       "    }\n",
       "</style>\n",
       "<table border=\"1\" class=\"dataframe\">\n",
       "  <thead>\n",
       "    <tr style=\"text-align: right;\">\n",
       "      <th></th>\n",
       "      <th>open_time</th>\n",
       "      <th>open</th>\n",
       "      <th>high</th>\n",
       "      <th>low</th>\n",
       "      <th>close</th>\n",
       "      <th>volume</th>\n",
       "      <th>close_time</th>\n",
       "    </tr>\n",
       "  </thead>\n",
       "  <tbody>\n",
       "    <tr>\n",
       "      <th>0</th>\n",
       "      <td>1685329800000</td>\n",
       "      <td>1908.26</td>\n",
       "      <td>1908.66</td>\n",
       "      <td>1906.36</td>\n",
       "      <td>1907.32</td>\n",
       "      <td>9846.311</td>\n",
       "      <td>1685330099999</td>\n",
       "    </tr>\n",
       "    <tr>\n",
       "      <th>1</th>\n",
       "      <td>1685330100000</td>\n",
       "      <td>1907.33</td>\n",
       "      <td>1907.93</td>\n",
       "      <td>1906.34</td>\n",
       "      <td>1906.87</td>\n",
       "      <td>6881.344</td>\n",
       "      <td>1685330399999</td>\n",
       "    </tr>\n",
       "    <tr>\n",
       "      <th>2</th>\n",
       "      <td>1685330400000</td>\n",
       "      <td>1906.86</td>\n",
       "      <td>1907.68</td>\n",
       "      <td>1905.80</td>\n",
       "      <td>1906.65</td>\n",
       "      <td>7430.771</td>\n",
       "      <td>1685330699999</td>\n",
       "    </tr>\n",
       "    <tr>\n",
       "      <th>3</th>\n",
       "      <td>1685330700000</td>\n",
       "      <td>1906.65</td>\n",
       "      <td>1908.72</td>\n",
       "      <td>1906.39</td>\n",
       "      <td>1907.87</td>\n",
       "      <td>7763.731</td>\n",
       "      <td>1685330999999</td>\n",
       "    </tr>\n",
       "    <tr>\n",
       "      <th>4</th>\n",
       "      <td>1685331000000</td>\n",
       "      <td>1907.88</td>\n",
       "      <td>1908.20</td>\n",
       "      <td>1904.76</td>\n",
       "      <td>1905.64</td>\n",
       "      <td>15089.906</td>\n",
       "      <td>1685331299999</td>\n",
       "    </tr>\n",
       "    <tr>\n",
       "      <th>...</th>\n",
       "      <td>...</td>\n",
       "      <td>...</td>\n",
       "      <td>...</td>\n",
       "      <td>...</td>\n",
       "      <td>...</td>\n",
       "      <td>...</td>\n",
       "      <td>...</td>\n",
       "    </tr>\n",
       "    <tr>\n",
       "      <th>495</th>\n",
       "      <td>1685478300000</td>\n",
       "      <td>1905.27</td>\n",
       "      <td>1905.44</td>\n",
       "      <td>1904.33</td>\n",
       "      <td>1904.84</td>\n",
       "      <td>5172.380</td>\n",
       "      <td>1685478599999</td>\n",
       "    </tr>\n",
       "    <tr>\n",
       "      <th>496</th>\n",
       "      <td>1685478600000</td>\n",
       "      <td>1904.84</td>\n",
       "      <td>1905.98</td>\n",
       "      <td>1904.33</td>\n",
       "      <td>1905.44</td>\n",
       "      <td>2653.922</td>\n",
       "      <td>1685478899999</td>\n",
       "    </tr>\n",
       "    <tr>\n",
       "      <th>497</th>\n",
       "      <td>1685478900000</td>\n",
       "      <td>1905.45</td>\n",
       "      <td>1905.64</td>\n",
       "      <td>1904.22</td>\n",
       "      <td>1904.65</td>\n",
       "      <td>1452.386</td>\n",
       "      <td>1685479199999</td>\n",
       "    </tr>\n",
       "    <tr>\n",
       "      <th>498</th>\n",
       "      <td>1685479200000</td>\n",
       "      <td>1904.65</td>\n",
       "      <td>1905.33</td>\n",
       "      <td>1904.65</td>\n",
       "      <td>1905.32</td>\n",
       "      <td>907.513</td>\n",
       "      <td>1685479499999</td>\n",
       "    </tr>\n",
       "    <tr>\n",
       "      <th>499</th>\n",
       "      <td>1685479500000</td>\n",
       "      <td>1905.32</td>\n",
       "      <td>1905.46</td>\n",
       "      <td>1904.11</td>\n",
       "      <td>1904.15</td>\n",
       "      <td>1661.142</td>\n",
       "      <td>1685479799999</td>\n",
       "    </tr>\n",
       "  </tbody>\n",
       "</table>\n",
       "<p>500 rows × 7 columns</p>\n",
       "</div>"
      ],
      "text/plain": [
       "         open_time     open     high      low    close     volume  \\\n",
       "0    1685329800000  1908.26  1908.66  1906.36  1907.32   9846.311   \n",
       "1    1685330100000  1907.33  1907.93  1906.34  1906.87   6881.344   \n",
       "2    1685330400000  1906.86  1907.68  1905.80  1906.65   7430.771   \n",
       "3    1685330700000  1906.65  1908.72  1906.39  1907.87   7763.731   \n",
       "4    1685331000000  1907.88  1908.20  1904.76  1905.64  15089.906   \n",
       "..             ...      ...      ...      ...      ...        ...   \n",
       "495  1685478300000  1905.27  1905.44  1904.33  1904.84   5172.380   \n",
       "496  1685478600000  1904.84  1905.98  1904.33  1905.44   2653.922   \n",
       "497  1685478900000  1905.45  1905.64  1904.22  1904.65   1452.386   \n",
       "498  1685479200000  1904.65  1905.33  1904.65  1905.32    907.513   \n",
       "499  1685479500000  1905.32  1905.46  1904.11  1904.15   1661.142   \n",
       "\n",
       "        close_time  \n",
       "0    1685330099999  \n",
       "1    1685330399999  \n",
       "2    1685330699999  \n",
       "3    1685330999999  \n",
       "4    1685331299999  \n",
       "..             ...  \n",
       "495  1685478599999  \n",
       "496  1685478899999  \n",
       "497  1685479199999  \n",
       "498  1685479499999  \n",
       "499  1685479799999  \n",
       "\n",
       "[500 rows x 7 columns]"
      ]
     },
     "execution_count": 24,
     "metadata": {},
     "output_type": "execute_result"
    }
   ],
   "source": [
    "get_futures_klines(symbol)"
   ]
  },
  {
   "cell_type": "code",
   "execution_count": 21,
   "id": "b6e34b74-2166-413a-9efe-3b768a6879e6",
   "metadata": {},
   "outputs": [],
   "source": [
    "close_position(symbol,'long',0.01)"
   ]
  },
  {
   "cell_type": "code",
   "execution_count": null,
   "id": "0e87d7d2-7f10-42d4-b3ee-230454f8f59d",
   "metadata": {},
   "outputs": [],
   "source": []
  }
 ],
 "metadata": {
  "kernelspec": {
   "display_name": "Python 3 (ipykernel)",
   "language": "python",
   "name": "python3"
  },
  "language_info": {
   "codemirror_mode": {
    "name": "ipython",
    "version": 3
   },
   "file_extension": ".py",
   "mimetype": "text/x-python",
   "name": "python",
   "nbconvert_exporter": "python",
   "pygments_lexer": "ipython3",
   "version": "3.10.9"
  }
 },
 "nbformat": 4,
 "nbformat_minor": 5
}
