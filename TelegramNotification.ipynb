{
 "cells": [
  {
   "cell_type": "code",
   "execution_count": 1,
   "id": "b7e22c7c-89ef-4096-9c28-8a40e9f94297",
   "metadata": {},
   "outputs": [],
   "source": [
    "import requests\n",
    "import time"
   ]
  },
  {
   "cell_type": "code",
   "execution_count": 2,
   "id": "70b80342-07fb-4c42-ab05-e155584dca10",
   "metadata": {},
   "outputs": [],
   "source": [
    "bot_token='6171365318:AAEE82I8meaxYVY62Uce-Mh2WVaKD165-48' \n",
    "chat_id='6069193223' "
   ]
  },
  {
   "cell_type": "code",
   "execution_count": 3,
   "id": "219e9711-49e1-43e2-bee8-e3424ef7b3d9",
   "metadata": {},
   "outputs": [],
   "source": [
    "telegram_delay=8\n",
    "\n",
    "def getTPSLfrom_telegram():\n",
    "    strr='https://api.telegram.org/bot'+bot_token+'/getUpdates'\n",
    "    response = requests.get(strr)\n",
    "    rs=response.json()\n",
    "    rs2=rs['result'][-1]\n",
    "    rs3=rs2['message']\n",
    "    textt=rs3['text']\n",
    "    datet=rs3['date']\n",
    "\n",
    "    if(time.time()-datet)<telegram_delay:\n",
    "        if 'quit' in textt:\n",
    "            quit()\n",
    "        if 'exit' in textt:\n",
    "            exit()\n",
    "        if 'hello' in textt:\n",
    "            telegram_bot_sendtext('Hello. How are you?')"
   ]
  },
  {
   "cell_type": "code",
   "execution_count": 4,
   "id": "ed939204-b59f-4294-9f81-171e855e9730",
   "metadata": {},
   "outputs": [],
   "source": [
    "def telegram_bot_sendtext(bot_message):\n",
    "    bot_token2 = bot_token\n",
    "    bot_chatID = chat_id\n",
    "    send_text = 'https://api.telegram.org/bot' + bot_token2 + '/sendMessage?chat_id=' + bot_chatID + '&parse_mode=Markdown&text=' + bot_message\n",
    "    response = requests.get(send_text)\n",
    "    return response.json()"
   ]
  },
  {
   "cell_type": "code",
   "execution_count": 5,
   "id": "e773464d",
   "metadata": {},
   "outputs": [
    {
     "data": {
      "text/plain": [
       "{'ok': True,\n",
       " 'result': {'message_id': 2002,\n",
       "  'from': {'id': 6171365318,\n",
       "   'is_bot': True,\n",
       "   'first_name': 'trading_Binance_bot',\n",
       "   'username': 'crypto_binanceSE_bot'},\n",
       "  'chat': {'id': 6069193223, 'first_name': 'Юля', 'type': 'private'},\n",
       "  'date': 1686750229,\n",
       "  'text': 'Hello! This is an automated trading bot on Binance'}}"
      ]
     },
     "execution_count": 5,
     "metadata": {},
     "output_type": "execute_result"
    }
   ],
   "source": [
    "telegram_bot_sendtext('Hello! This is an automated trading bot on Binance')"
   ]
  },
  {
   "cell_type": "code",
   "execution_count": 6,
   "id": "228362b8-eba4-4f2b-844a-d13a215dd158",
   "metadata": {},
   "outputs": [
    {
     "name": "stdout",
     "output_type": "stream",
     "text": [
      "passthrough at 2023-06-14 16:43:48\n"
     ]
    },
    {
     "ename": "IndexError",
     "evalue": "list index out of range",
     "output_type": "error",
     "traceback": [
      "\u001b[1;31m---------------------------------------------------------------------------\u001b[0m",
      "\u001b[1;31mIndexError\u001b[0m                                Traceback (most recent call last)",
      "Cell \u001b[1;32mIn[6], line 8\u001b[0m\n\u001b[0;32m      6\u001b[0m \u001b[39mtry\u001b[39;00m:\n\u001b[0;32m      7\u001b[0m     \u001b[39mprint\u001b[39m(\u001b[39m\"\u001b[39m\u001b[39mpassthrough at \u001b[39m\u001b[39m\"\u001b[39m\u001b[39m+\u001b[39mtime\u001b[39m.\u001b[39mstrftime(\u001b[39m'\u001b[39m\u001b[39m%\u001b[39m\u001b[39mY-\u001b[39m\u001b[39m%\u001b[39m\u001b[39mm-\u001b[39m\u001b[39m%d\u001b[39;00m\u001b[39m \u001b[39m\u001b[39m%\u001b[39m\u001b[39mH:\u001b[39m\u001b[39m%\u001b[39m\u001b[39mM:\u001b[39m\u001b[39m%\u001b[39m\u001b[39mS\u001b[39m\u001b[39m'\u001b[39m, time\u001b[39m.\u001b[39mlocaltime(time\u001b[39m.\u001b[39mtime())))\n\u001b[1;32m----> 8\u001b[0m     getTPSLfrom_telegram()\n\u001b[0;32m      9\u001b[0m     time\u001b[39m.\u001b[39msleep(\u001b[39m10\u001b[39m \u001b[39m-\u001b[39m ((time\u001b[39m.\u001b[39mtime() \u001b[39m-\u001b[39m starttime) \u001b[39m%\u001b[39m \u001b[39m10.0\u001b[39m)) \u001b[39m# 1 minute interval between each new execution\u001b[39;00m\n\u001b[0;32m     10\u001b[0m \u001b[39mexcept\u001b[39;00m \u001b[39mKeyboardInterrupt\u001b[39;00m:\n",
      "Cell \u001b[1;32mIn[3], line 7\u001b[0m, in \u001b[0;36mgetTPSLfrom_telegram\u001b[1;34m()\u001b[0m\n\u001b[0;32m      5\u001b[0m response \u001b[39m=\u001b[39m requests\u001b[39m.\u001b[39mget(strr)\n\u001b[0;32m      6\u001b[0m rs\u001b[39m=\u001b[39mresponse\u001b[39m.\u001b[39mjson()\n\u001b[1;32m----> 7\u001b[0m rs2\u001b[39m=\u001b[39mrs[\u001b[39m'\u001b[39;49m\u001b[39mresult\u001b[39;49m\u001b[39m'\u001b[39;49m][\u001b[39m-\u001b[39;49m\u001b[39m1\u001b[39;49m]\n\u001b[0;32m      8\u001b[0m rs3\u001b[39m=\u001b[39mrs2[\u001b[39m'\u001b[39m\u001b[39mmessage\u001b[39m\u001b[39m'\u001b[39m]\n\u001b[0;32m      9\u001b[0m textt\u001b[39m=\u001b[39mrs3[\u001b[39m'\u001b[39m\u001b[39mtext\u001b[39m\u001b[39m'\u001b[39m]\n",
      "\u001b[1;31mIndexError\u001b[0m: list index out of range"
     ]
    }
   ],
   "source": [
    "starttime=time.time()\n",
    "timeout = time.time() + 60*60*12  # 60 seconds times 60 meaning the script will run for 1 hr\n",
    "counterr=1\n",
    "\n",
    "while time.time() <= timeout:\n",
    "    try:\n",
    "        print(\"passthrough at \"+time.strftime('%Y-%m-%d %H:%M:%S', time.localtime(time.time())))\n",
    "        getTPSLfrom_telegram()\n",
    "        time.sleep(10 - ((time.time() - starttime) % 10.0)) # 1 minute interval between each new execution\n",
    "    except KeyboardInterrupt:\n",
    "        print('\\n\\nKeyboard exception received. Exiting.')\n",
    "        exit()\n",
    "        "
   ]
  },
  {
   "cell_type": "code",
   "execution_count": null,
   "id": "d2b4e587",
   "metadata": {},
   "outputs": [],
   "source": []
  }
 ],
 "metadata": {
  "kernelspec": {
   "display_name": "Python 3 (ipykernel)",
   "language": "python",
   "name": "python3"
  },
  "language_info": {
   "codemirror_mode": {
    "name": "ipython",
    "version": 3
   },
   "file_extension": ".py",
   "mimetype": "text/x-python",
   "name": "python",
   "nbconvert_exporter": "python",
   "pygments_lexer": "ipython3",
   "version": "3.10.9"
  }
 },
 "nbformat": 4,
 "nbformat_minor": 5
}
