{
 "cells": [
  {
   "cell_type": "code",
   "execution_count": 10,
   "id": "b7e22c7c-89ef-4096-9c28-8a40e9f94297",
   "metadata": {},
   "outputs": [],
   "source": [
    "import requests\n",
    "import time"
   ]
  },
  {
   "cell_type": "code",
   "execution_count": 11,
   "id": "70b80342-07fb-4c42-ab05-e155584dca10",
   "metadata": {},
   "outputs": [],
   "source": [
    "bot_token='6171365318:AAEE82I8meaxYVY62Uce-Mh2WVaKD165-48' \n",
    "chat_id='6069193223' "
   ]
  },
  {
   "cell_type": "code",
   "execution_count": 12,
   "id": "ade46327-2950-44bc-b308-5eb5d3b4ea14",
   "metadata": {},
   "outputs": [
    {
     "data": {
      "text/plain": [
       "{'ok': True,\n",
       " 'result': {'message_id': 154,\n",
       "  'from': {'id': 6171365318,\n",
       "   'is_bot': True,\n",
       "   'first_name': 'trading_Binance_bot',\n",
       "   'username': 'crypto_binanceSE_bot'},\n",
       "  'chat': {'id': 6069193223, 'first_name': 'Юля', 'type': 'private'},\n",
       "  'date': 1685482509,\n",
       "  'text': 'Hello. How are you?'}}"
      ]
     },
     "execution_count": 12,
     "metadata": {},
     "output_type": "execute_result"
    }
   ],
   "source": [
    "            telegram_bot_sendtext('Hello. How are you?')"
   ]
  },
  {
   "cell_type": "code",
   "execution_count": 13,
   "id": "219e9711-49e1-43e2-bee8-e3424ef7b3d9",
   "metadata": {},
   "outputs": [],
   "source": [
    "telegram_delay=8\n",
    "\n",
    "def getTPSLfrom_telegram():\n",
    "    strr='https://api.telegram.org/bot'+bot_token+'/getUpdates'\n",
    "    response = requests.get(strr)\n",
    "    rs=response.json()\n",
    "    rs2=rs['result'][-1]\n",
    "    rs3=rs2['message']\n",
    "    textt=rs3['text']\n",
    "    datet=rs3['date']\n",
    "\n",
    "    if(time.time()-datet)<telegram_delay:\n",
    "        if 'quit' in textt:\n",
    "            quit()\n",
    "        if 'exit' in textt:\n",
    "            exit()\n",
    "        if 'hello' in textt:\n",
    "            telegram_bot_sendtext('Hello. How are you?')"
   ]
  },
  {
   "cell_type": "code",
   "execution_count": 14,
   "id": "ed939204-b59f-4294-9f81-171e855e9730",
   "metadata": {},
   "outputs": [],
   "source": [
    "def telegram_bot_sendtext(bot_message):\n",
    "    bot_token2 = bot_token\n",
    "    bot_chatID = chat_id\n",
    "    send_text = 'https://api.telegram.org/bot' + bot_token2 + '/sendMessage?chat_id=' + bot_chatID + '&parse_mode=Markdown&text=' + bot_message\n",
    "    response = requests.get(send_text)\n",
    "    return response.json()"
   ]
  },
  {
   "cell_type": "code",
   "execution_count": 15,
   "id": "e773464d",
   "metadata": {},
   "outputs": [
    {
     "data": {
      "text/plain": [
       "{'ok': True,\n",
       " 'result': {'message_id': 155,\n",
       "  'from': {'id': 6171365318,\n",
       "   'is_bot': True,\n",
       "   'first_name': 'trading_Binance_bot',\n",
       "   'username': 'crypto_binanceSE_bot'},\n",
       "  'chat': {'id': 6069193223, 'first_name': 'Юля', 'type': 'private'},\n",
       "  'date': 1685482510,\n",
       "  'text': 'Hello! This is an automated trading bot on Binance'}}"
      ]
     },
     "execution_count": 15,
     "metadata": {},
     "output_type": "execute_result"
    }
   ],
   "source": [
    "telegram_bot_sendtext('Hello! This is an automated trading bot on Binance')"
   ]
  },
  {
   "cell_type": "code",
   "execution_count": null,
   "id": "228362b8-eba4-4f2b-844a-d13a215dd158",
   "metadata": {},
   "outputs": [
    {
     "name": "stdout",
     "output_type": "stream",
     "text": [
      "passthrough at 2023-05-31 00:35:10\n",
      "passthrough at 2023-05-31 00:35:20\n",
      "passthrough at 2023-05-31 00:35:30\n",
      "passthrough at 2023-05-31 00:35:40\n",
      "passthrough at 2023-05-31 00:35:50\n",
      "passthrough at 2023-05-31 00:36:00\n",
      "passthrough at 2023-05-31 00:36:10\n",
      "passthrough at 2023-05-31 00:36:20\n",
      "passthrough at 2023-05-31 00:36:30\n",
      "passthrough at 2023-05-31 00:36:40\n",
      "passthrough at 2023-05-31 00:36:50\n",
      "passthrough at 2023-05-31 00:37:00\n",
      "passthrough at 2023-05-31 00:37:10\n",
      "passthrough at 2023-05-31 00:37:20\n",
      "passthrough at 2023-05-31 00:37:30\n",
      "passthrough at 2023-05-31 00:37:40\n",
      "passthrough at 2023-05-31 00:37:50\n",
      "passthrough at 2023-05-31 00:38:00\n",
      "passthrough at 2023-05-31 00:38:10\n",
      "passthrough at 2023-05-31 00:38:20\n",
      "passthrough at 2023-05-31 00:38:30\n",
      "passthrough at 2023-05-31 00:38:40\n",
      "passthrough at 2023-05-31 00:38:50\n",
      "passthrough at 2023-05-31 00:39:00\n",
      "passthrough at 2023-05-31 00:39:10\n",
      "passthrough at 2023-05-31 00:39:20\n",
      "passthrough at 2023-05-31 00:39:30\n",
      "passthrough at 2023-05-31 00:39:40\n",
      "passthrough at 2023-05-31 00:39:50\n",
      "passthrough at 2023-05-31 00:40:00\n",
      "passthrough at 2023-05-31 00:40:10\n",
      "passthrough at 2023-05-31 00:40:20\n",
      "passthrough at 2023-05-31 00:40:30\n",
      "passthrough at 2023-05-31 00:40:40\n",
      "passthrough at 2023-05-31 00:40:50\n",
      "passthrough at 2023-05-31 00:41:00\n",
      "passthrough at 2023-05-31 00:41:10\n",
      "passthrough at 2023-05-31 00:41:20\n",
      "passthrough at 2023-05-31 00:41:30\n",
      "passthrough at 2023-05-31 00:41:40\n",
      "passthrough at 2023-05-31 00:41:50\n",
      "passthrough at 2023-05-31 00:42:00\n",
      "passthrough at 2023-05-31 00:42:10\n",
      "passthrough at 2023-05-31 00:42:22\n",
      "passthrough at 2023-05-31 00:42:30\n",
      "passthrough at 2023-05-31 00:42:40\n",
      "passthrough at 2023-05-31 00:42:50\n",
      "passthrough at 2023-05-31 00:43:00\n",
      "passthrough at 2023-05-31 00:43:10\n",
      "passthrough at 2023-05-31 00:43:20\n",
      "passthrough at 2023-05-31 00:43:30\n",
      "passthrough at 2023-05-31 00:43:40\n",
      "passthrough at 2023-05-31 00:43:50\n",
      "passthrough at 2023-05-31 00:44:00\n"
     ]
    }
   ],
   "source": [
    "starttime=time.time()\n",
    "timeout = time.time() + 60*60*12  # 60 seconds times 60 meaning the script will run for 1 hr\n",
    "counterr=1\n",
    "\n",
    "while time.time() <= timeout:\n",
    "    try:\n",
    "        print(\"passthrough at \"+time.strftime('%Y-%m-%d %H:%M:%S', time.localtime(time.time())))\n",
    "        getTPSLfrom_telegram()\n",
    "        time.sleep(10 - ((time.time() - starttime) % 10.0)) # 1 minute interval between each new execution\n",
    "    except KeyboardInterrupt:\n",
    "        print('\\n\\nKeyboard exception received. Exiting.')\n",
    "        exit()\n",
    "        "
   ]
  },
  {
   "cell_type": "code",
   "execution_count": null,
   "id": "d2b4e587",
   "metadata": {},
   "outputs": [],
   "source": []
  }
 ],
 "metadata": {
  "kernelspec": {
   "display_name": "Python 3 (ipykernel)",
   "language": "python",
   "name": "python3"
  },
  "language_info": {
   "codemirror_mode": {
    "name": "ipython",
    "version": 3
   },
   "file_extension": ".py",
   "mimetype": "text/x-python",
   "name": "python",
   "nbconvert_exporter": "python",
   "pygments_lexer": "ipython3",
   "version": "3.10.9"
  }
 },
 "nbformat": 4,
 "nbformat_minor": 5
}
